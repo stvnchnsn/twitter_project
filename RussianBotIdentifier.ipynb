{
 "cells": [
  {
   "cell_type": "code",
   "execution_count": 702,
   "metadata": {},
   "outputs": [
    {
     "name": "stderr",
     "output_type": "stream",
     "text": [
      "[nltk_data] Downloading package punkt to\n",
      "[nltk_data]     /Users/stevenhansen/nltk_data...\n",
      "[nltk_data]   Package punkt is already up-to-date!\n"
     ]
    }
   ],
   "source": [
    "import pandas as pd\n",
    "import nltk\n",
    "nltk.download(\"punkt\")\n",
    "import numpy as np\n",
    "import string\n",
    "import json\n",
    "import matplotlib.pyplot as plt\n",
    "import csv"
   ]
  },
  {
   "cell_type": "markdown",
   "metadata": {},
   "source": [
    "# Data sources: \n",
    "\n",
    "1) Random twitter tweets called \"random tweets\" and 'rand_tweets'in the following code - from: https://data.world/data-society/twitter-user-data \n",
    "\n",
    "2) Russian Internet Research Agency (rira) Tweets called \"tweets.csv\" and 'rira_tweets' in the following code - from: https://www.kaggle.com/vikasg/russian-troll-tweets?select=tweets.csv\n",
    "\n",
    "3) Random Corpus tweets from the nltk database called \"twit_samples_corpus\" in the following code"
   ]
  },
  {
   "cell_type": "markdown",
   "metadata": {},
   "source": [
    "# Injesting the data"
   ]
  },
  {
   "cell_type": "code",
   "execution_count": 2,
   "metadata": {},
   "outputs": [],
   "source": [
    "rira_data = pd.read_csv(\"./tweets.csv\")"
   ]
  },
  {
   "cell_type": "code",
   "execution_count": 122,
   "metadata": {},
   "outputs": [],
   "source": [
    "rand_data = pd.read_csv(\"./Random_Tweets.csv\")"
   ]
  },
  {
   "cell_type": "code",
   "execution_count": 4,
   "metadata": {},
   "outputs": [],
   "source": [
    "from nltk.corpus import twitter_samples"
   ]
  },
  {
   "cell_type": "code",
   "execution_count": 5,
   "metadata": {},
   "outputs": [
    {
     "data": {
      "text/plain": [
       "['negative_tweets.json', 'positive_tweets.json', 'tweets.20150430-223406.json']"
      ]
     },
     "execution_count": 5,
     "metadata": {},
     "output_type": "execute_result"
    }
   ],
   "source": [
    "twitter_samples.fileids()"
   ]
  },
  {
   "cell_type": "code",
   "execution_count": 9,
   "metadata": {},
   "outputs": [],
   "source": [
    "twit_samples_corpus = ([(t,'pos')for t in twitter_samples.strings(\"positive_tweets.json\")] + \n",
    "             [(t,'neg') for t in twitter_samples.strings(\"negative_tweets.json\")])"
   ]
  },
  {
   "cell_type": "code",
   "execution_count": 10,
   "metadata": {},
   "outputs": [
    {
     "data": {
      "text/plain": [
       "('@eawoman As a Hull supporter I am expecting a misserable few weeks :-(',\n",
       " 'neg')"
      ]
     },
     "execution_count": 10,
     "metadata": {},
     "output_type": "execute_result"
    }
   ],
   "source": [
    "twit_samples_corpus[-1]"
   ]
  },
  {
   "cell_type": "code",
   "execution_count": null,
   "metadata": {},
   "outputs": [],
   "source": []
  },
  {
   "cell_type": "code",
   "execution_count": 677,
   "metadata": {},
   "outputs": [],
   "source": [
    "twit_sample_corpus_unlabeled = twitter_samples.strings(\"positive_tweets.json\") + twitter_samples.strings(\"negative_tweets.json\")+twitter_samples.strings(\"tweets.20150430-223406.json\")"
   ]
  },
  {
   "cell_type": "code",
   "execution_count": null,
   "metadata": {},
   "outputs": [],
   "source": [
    "twit_sample_corpus_unlabeled"
   ]
  },
  {
   "cell_type": "code",
   "execution_count": 12,
   "metadata": {},
   "outputs": [
    {
     "data": {
      "text/plain": [
       "(203482, 16)"
      ]
     },
     "execution_count": 12,
     "metadata": {},
     "output_type": "execute_result"
    }
   ],
   "source": [
    "rira_data.shape"
   ]
  },
  {
   "cell_type": "code",
   "execution_count": 123,
   "metadata": {},
   "outputs": [
    {
     "data": {
      "text/plain": [
       "(20050, 26)"
      ]
     },
     "execution_count": 123,
     "metadata": {},
     "output_type": "execute_result"
    }
   ],
   "source": [
    "rand_data.shape"
   ]
  },
  {
   "cell_type": "code",
   "execution_count": 680,
   "metadata": {},
   "outputs": [
    {
     "data": {
      "text/html": [
       "<div>\n",
       "<style scoped>\n",
       "    .dataframe tbody tr th:only-of-type {\n",
       "        vertical-align: middle;\n",
       "    }\n",
       "\n",
       "    .dataframe tbody tr th {\n",
       "        vertical-align: top;\n",
       "    }\n",
       "\n",
       "    .dataframe thead th {\n",
       "        text-align: right;\n",
       "    }\n",
       "</style>\n",
       "<table border=\"1\" class=\"dataframe\">\n",
       "  <thead>\n",
       "    <tr style=\"text-align: right;\">\n",
       "      <th></th>\n",
       "      <th>user_id</th>\n",
       "      <th>user_key</th>\n",
       "      <th>created_at</th>\n",
       "      <th>created_str</th>\n",
       "      <th>retweet_count</th>\n",
       "      <th>retweeted</th>\n",
       "      <th>favorite_count</th>\n",
       "      <th>text</th>\n",
       "      <th>tweet_id</th>\n",
       "      <th>source</th>\n",
       "      <th>hashtags</th>\n",
       "      <th>expanded_urls</th>\n",
       "      <th>posted</th>\n",
       "      <th>mentions</th>\n",
       "      <th>retweeted_status_id</th>\n",
       "      <th>in_reply_to_status_id</th>\n",
       "    </tr>\n",
       "  </thead>\n",
       "  <tbody>\n",
       "    <tr>\n",
       "      <td>0</td>\n",
       "      <td>1.868981e+09</td>\n",
       "      <td>ryanmaxwell_1</td>\n",
       "      <td>1.458672e+12</td>\n",
       "      <td>2016-03-22 18:31:42</td>\n",
       "      <td>NaN</td>\n",
       "      <td>NaN</td>\n",
       "      <td>NaN</td>\n",
       "      <td>#IslamKills Are you trying to say that there w...</td>\n",
       "      <td>7.123460e+17</td>\n",
       "      <td>NaN</td>\n",
       "      <td>[\"IslamKills\"]</td>\n",
       "      <td>[]</td>\n",
       "      <td>POSTED</td>\n",
       "      <td>[]</td>\n",
       "      <td>NaN</td>\n",
       "      <td>NaN</td>\n",
       "    </tr>\n",
       "  </tbody>\n",
       "</table>\n",
       "</div>"
      ],
      "text/plain": [
       "        user_id       user_key    created_at          created_str  \\\n",
       "0  1.868981e+09  ryanmaxwell_1  1.458672e+12  2016-03-22 18:31:42   \n",
       "\n",
       "   retweet_count retweeted  favorite_count  \\\n",
       "0            NaN       NaN             NaN   \n",
       "\n",
       "                                                text      tweet_id source  \\\n",
       "0  #IslamKills Are you trying to say that there w...  7.123460e+17    NaN   \n",
       "\n",
       "         hashtags expanded_urls  posted mentions  retweeted_status_id  \\\n",
       "0  [\"IslamKills\"]            []  POSTED       []                  NaN   \n",
       "\n",
       "   in_reply_to_status_id  \n",
       "0                    NaN  "
      ]
     },
     "execution_count": 680,
     "metadata": {},
     "output_type": "execute_result"
    }
   ],
   "source": [
    "rira_data.head(1)"
   ]
  },
  {
   "cell_type": "code",
   "execution_count": 697,
   "metadata": {},
   "outputs": [],
   "source": [
    "ryanmaxwell_1_rira = rira_data[rira_data.user_key==\"ryanmaxwell_1\"]"
   ]
  },
  {
   "cell_type": "code",
   "execution_count": 686,
   "metadata": {},
   "outputs": [],
   "source": [
    "rira_IDs = pd.DataFrame(rira_data.user_key.unique(),columns = [\"TwitterHandle\"])"
   ]
  },
  {
   "cell_type": "code",
   "execution_count": 687,
   "metadata": {},
   "outputs": [
    {
     "data": {
      "text/html": [
       "<div>\n",
       "<style scoped>\n",
       "    .dataframe tbody tr th:only-of-type {\n",
       "        vertical-align: middle;\n",
       "    }\n",
       "\n",
       "    .dataframe tbody tr th {\n",
       "        vertical-align: top;\n",
       "    }\n",
       "\n",
       "    .dataframe thead th {\n",
       "        text-align: right;\n",
       "    }\n",
       "</style>\n",
       "<table border=\"1\" class=\"dataframe\">\n",
       "  <thead>\n",
       "    <tr style=\"text-align: right;\">\n",
       "      <th></th>\n",
       "      <th>TwitterHandle</th>\n",
       "    </tr>\n",
       "  </thead>\n",
       "  <tbody>\n",
       "    <tr>\n",
       "      <td>0</td>\n",
       "      <td>ryanmaxwell_1</td>\n",
       "    </tr>\n",
       "    <tr>\n",
       "      <td>1</td>\n",
       "      <td>detroitdailynew</td>\n",
       "    </tr>\n",
       "    <tr>\n",
       "      <td>2</td>\n",
       "      <td>cookncooks</td>\n",
       "    </tr>\n",
       "    <tr>\n",
       "      <td>3</td>\n",
       "      <td>queenofthewo</td>\n",
       "    </tr>\n",
       "    <tr>\n",
       "      <td>4</td>\n",
       "      <td>mrclydepratt</td>\n",
       "    </tr>\n",
       "    <tr>\n",
       "      <td>...</td>\n",
       "      <td>...</td>\n",
       "    </tr>\n",
       "    <tr>\n",
       "      <td>449</td>\n",
       "      <td>jon_underwood_</td>\n",
       "    </tr>\n",
       "    <tr>\n",
       "      <td>450</td>\n",
       "      <td>milwaukeevoice</td>\n",
       "    </tr>\n",
       "    <tr>\n",
       "      <td>451</td>\n",
       "      <td>horrorki</td>\n",
       "    </tr>\n",
       "    <tr>\n",
       "      <td>452</td>\n",
       "      <td>mrservelat</td>\n",
       "    </tr>\n",
       "    <tr>\n",
       "      <td>453</td>\n",
       "      <td>zistti</td>\n",
       "    </tr>\n",
       "  </tbody>\n",
       "</table>\n",
       "<p>454 rows × 1 columns</p>\n",
       "</div>"
      ],
      "text/plain": [
       "       TwitterHandle\n",
       "0      ryanmaxwell_1\n",
       "1    detroitdailynew\n",
       "2         cookncooks\n",
       "3       queenofthewo\n",
       "4       mrclydepratt\n",
       "..               ...\n",
       "449   jon_underwood_\n",
       "450   milwaukeevoice\n",
       "451         horrorki\n",
       "452       mrservelat\n",
       "453           zistti\n",
       "\n",
       "[454 rows x 1 columns]"
      ]
     },
     "execution_count": 687,
     "metadata": {},
     "output_type": "execute_result"
    }
   ],
   "source": [
    "\n",
    "    "
   ]
  },
  {
   "cell_type": "code",
   "execution_count": 15,
   "metadata": {},
   "outputs": [],
   "source": [
    "ryanmaxwell_1_rira = rira_data[rira_data.user_key==\"ryanmaxwell_1\"]"
   ]
  },
  {
   "cell_type": "markdown",
   "metadata": {},
   "source": [
    "# Cleaning the data"
   ]
  },
  {
   "cell_type": "code",
   "execution_count": 17,
   "metadata": {},
   "outputs": [],
   "source": [
    "rira_data = rira_data[rira_data.text.isnull()==False] # drops Null text"
   ]
  },
  {
   "cell_type": "code",
   "execution_count": 59,
   "metadata": {},
   "outputs": [],
   "source": [
    "rand_data = rand_data[rand_data.text.isnull() == False]"
   ]
  },
  {
   "cell_type": "markdown",
   "metadata": {},
   "source": [
    "### Random tweets cleaning "
   ]
  },
  {
   "cell_type": "code",
   "execution_count": 125,
   "metadata": {},
   "outputs": [],
   "source": [
    "rand_tweets = rand_data.text"
   ]
  },
  {
   "cell_type": "code",
   "execution_count": 126,
   "metadata": {},
   "outputs": [
    {
     "data": {
      "text/plain": [
       "False"
      ]
     },
     "execution_count": 126,
     "metadata": {},
     "output_type": "execute_result"
    }
   ],
   "source": [
    "rand_data.text.isnull().any()"
   ]
  },
  {
   "cell_type": "code",
   "execution_count": 564,
   "metadata": {},
   "outputs": [],
   "source": [
    "rand_tweets = pd.DataFrame(rand_tweets)"
   ]
  },
  {
   "cell_type": "code",
   "execution_count": 565,
   "metadata": {},
   "outputs": [],
   "source": [
    "rand_tweets['rira'] = 0"
   ]
  },
  {
   "cell_type": "markdown",
   "metadata": {},
   "source": [
    "### RIRA tweet cleaning"
   ]
  },
  {
   "cell_type": "code",
   "execution_count": 138,
   "metadata": {},
   "outputs": [],
   "source": [
    "rira_tweets = rira_data.text"
   ]
  },
  {
   "cell_type": "code",
   "execution_count": 20,
   "metadata": {},
   "outputs": [
    {
     "data": {
      "text/plain": [
       "0    #IslamKills Are you trying to say that there w...\n",
       "1    Clinton: Trump should’ve apologized more, atta...\n",
       "2    RT @ltapoll: Who was/is the best president of ...\n",
       "3    RT @jww372: I don't have to guess your religio...\n",
       "4    RT @Shareblue: Pence and his lawyers decided w...\n",
       "Name: text, dtype: object"
      ]
     },
     "execution_count": 20,
     "metadata": {},
     "output_type": "execute_result"
    }
   ],
   "source": [
    "rira_tweets.head()"
   ]
  },
  {
   "cell_type": "code",
   "execution_count": 560,
   "metadata": {},
   "outputs": [],
   "source": [
    "rira_tweets = pd.DataFrame(rira_tweets)"
   ]
  },
  {
   "cell_type": "code",
   "execution_count": 561,
   "metadata": {},
   "outputs": [],
   "source": [
    "rira_tweets['rira']=1"
   ]
  },
  {
   "cell_type": "code",
   "execution_count": 562,
   "metadata": {},
   "outputs": [
    {
     "data": {
      "text/html": [
       "<div>\n",
       "<style scoped>\n",
       "    .dataframe tbody tr th:only-of-type {\n",
       "        vertical-align: middle;\n",
       "    }\n",
       "\n",
       "    .dataframe tbody tr th {\n",
       "        vertical-align: top;\n",
       "    }\n",
       "\n",
       "    .dataframe thead th {\n",
       "        text-align: right;\n",
       "    }\n",
       "</style>\n",
       "<table border=\"1\" class=\"dataframe\">\n",
       "  <thead>\n",
       "    <tr style=\"text-align: right;\">\n",
       "      <th></th>\n",
       "      <th>text</th>\n",
       "      <th>rira</th>\n",
       "    </tr>\n",
       "  </thead>\n",
       "  <tbody>\n",
       "    <tr>\n",
       "      <td>0</td>\n",
       "      <td>#IslamKills Are you trying to say that there w...</td>\n",
       "      <td>1</td>\n",
       "    </tr>\n",
       "    <tr>\n",
       "      <td>1</td>\n",
       "      <td>Clinton: Trump should’ve apologized more, atta...</td>\n",
       "      <td>1</td>\n",
       "    </tr>\n",
       "    <tr>\n",
       "      <td>2</td>\n",
       "      <td>RT @ltapoll: Who was/is the best president of ...</td>\n",
       "      <td>1</td>\n",
       "    </tr>\n",
       "    <tr>\n",
       "      <td>3</td>\n",
       "      <td>RT @jww372: I don't have to guess your religio...</td>\n",
       "      <td>1</td>\n",
       "    </tr>\n",
       "    <tr>\n",
       "      <td>4</td>\n",
       "      <td>RT @Shareblue: Pence and his lawyers decided w...</td>\n",
       "      <td>1</td>\n",
       "    </tr>\n",
       "  </tbody>\n",
       "</table>\n",
       "</div>"
      ],
      "text/plain": [
       "                                                text  rira\n",
       "0  #IslamKills Are you trying to say that there w...     1\n",
       "1  Clinton: Trump should’ve apologized more, atta...     1\n",
       "2  RT @ltapoll: Who was/is the best president of ...     1\n",
       "3  RT @jww372: I don't have to guess your religio...     1\n",
       "4  RT @Shareblue: Pence and his lawyers decided w...     1"
      ]
     },
     "execution_count": 562,
     "metadata": {},
     "output_type": "execute_result"
    }
   ],
   "source": [
    "rira_tweets.head()"
   ]
  },
  {
   "cell_type": "code",
   "execution_count": 688,
   "metadata": {},
   "outputs": [],
   "source": [
    "rira_text = rira_tweets.text"
   ]
  },
  {
   "cell_type": "code",
   "execution_count": 612,
   "metadata": {},
   "outputs": [],
   "source": [
    "twit_sample_corpus_unlabeled = pd.DataFrame(twit_sample_corpus_unlabeled )"
   ]
  },
  {
   "cell_type": "code",
   "execution_count": 141,
   "metadata": {},
   "outputs": [
    {
     "data": {
      "text/html": [
       "<div>\n",
       "<style scoped>\n",
       "    .dataframe tbody tr th:only-of-type {\n",
       "        vertical-align: middle;\n",
       "    }\n",
       "\n",
       "    .dataframe tbody tr th {\n",
       "        vertical-align: top;\n",
       "    }\n",
       "\n",
       "    .dataframe thead th {\n",
       "        text-align: right;\n",
       "    }\n",
       "</style>\n",
       "<table border=\"1\" class=\"dataframe\">\n",
       "  <thead>\n",
       "    <tr style=\"text-align: right;\">\n",
       "      <th></th>\n",
       "      <th>0</th>\n",
       "    </tr>\n",
       "  </thead>\n",
       "  <tbody>\n",
       "    <tr>\n",
       "      <td>0</td>\n",
       "      <td>#FollowFriday @France_Inte @PKuchly57 @Milipol...</td>\n",
       "    </tr>\n",
       "    <tr>\n",
       "      <td>1</td>\n",
       "      <td>@Lamb2ja Hey James! How odd :/ Please call our...</td>\n",
       "    </tr>\n",
       "    <tr>\n",
       "      <td>2</td>\n",
       "      <td>@DespiteOfficial we had a listen last night :)...</td>\n",
       "    </tr>\n",
       "    <tr>\n",
       "      <td>3</td>\n",
       "      <td>@97sides CONGRATS :)</td>\n",
       "    </tr>\n",
       "    <tr>\n",
       "      <td>4</td>\n",
       "      <td>yeaaaah yippppy!!!  my accnt verified rqst has...</td>\n",
       "    </tr>\n",
       "  </tbody>\n",
       "</table>\n",
       "</div>"
      ],
      "text/plain": [
       "                                                   0\n",
       "0  #FollowFriday @France_Inte @PKuchly57 @Milipol...\n",
       "1  @Lamb2ja Hey James! How odd :/ Please call our...\n",
       "2  @DespiteOfficial we had a listen last night :)...\n",
       "3                               @97sides CONGRATS :)\n",
       "4  yeaaaah yippppy!!!  my accnt verified rqst has..."
      ]
     },
     "execution_count": 141,
     "metadata": {},
     "output_type": "execute_result"
    }
   ],
   "source": [
    "twit_sample_corpus_unlabeled.head()"
   ]
  },
  {
   "cell_type": "markdown",
   "metadata": {},
   "source": [
    "#### Create tweet files for RIRA handles"
   ]
  },
  {
   "cell_type": "code",
   "execution_count": 743,
   "metadata": {},
   "outputs": [],
   "source": [
    "rira_IDs = pd.DataFrame(rira_data.user_key.unique(),columns = [\"TwitterHandle\"])"
   ]
  },
  {
   "cell_type": "code",
   "execution_count": 705,
   "metadata": {},
   "outputs": [
    {
     "data": {
      "text/html": [
       "<div>\n",
       "<style scoped>\n",
       "    .dataframe tbody tr th:only-of-type {\n",
       "        vertical-align: middle;\n",
       "    }\n",
       "\n",
       "    .dataframe tbody tr th {\n",
       "        vertical-align: top;\n",
       "    }\n",
       "\n",
       "    .dataframe thead th {\n",
       "        text-align: right;\n",
       "    }\n",
       "</style>\n",
       "<table border=\"1\" class=\"dataframe\">\n",
       "  <thead>\n",
       "    <tr style=\"text-align: right;\">\n",
       "      <th></th>\n",
       "      <th>user_id</th>\n",
       "      <th>user_key</th>\n",
       "      <th>created_at</th>\n",
       "      <th>created_str</th>\n",
       "      <th>retweet_count</th>\n",
       "      <th>retweeted</th>\n",
       "      <th>favorite_count</th>\n",
       "      <th>text</th>\n",
       "      <th>tweet_id</th>\n",
       "      <th>source</th>\n",
       "      <th>hashtags</th>\n",
       "      <th>expanded_urls</th>\n",
       "      <th>posted</th>\n",
       "      <th>mentions</th>\n",
       "      <th>retweeted_status_id</th>\n",
       "      <th>in_reply_to_status_id</th>\n",
       "    </tr>\n",
       "  </thead>\n",
       "  <tbody>\n",
       "    <tr>\n",
       "      <td>0</td>\n",
       "      <td>1.868981e+09</td>\n",
       "      <td>ryanmaxwell_1</td>\n",
       "      <td>1.458672e+12</td>\n",
       "      <td>2016-03-22 18:31:42</td>\n",
       "      <td>NaN</td>\n",
       "      <td>NaN</td>\n",
       "      <td>NaN</td>\n",
       "      <td>#IslamKills Are you trying to say that there w...</td>\n",
       "      <td>7.123460e+17</td>\n",
       "      <td>NaN</td>\n",
       "      <td>[\"IslamKills\"]</td>\n",
       "      <td>[]</td>\n",
       "      <td>POSTED</td>\n",
       "      <td>[]</td>\n",
       "      <td>NaN</td>\n",
       "      <td>NaN</td>\n",
       "    </tr>\n",
       "    <tr>\n",
       "      <td>1</td>\n",
       "      <td>2.571870e+09</td>\n",
       "      <td>detroitdailynew</td>\n",
       "      <td>1.476133e+12</td>\n",
       "      <td>2016-10-10 20:57:00</td>\n",
       "      <td>0.0</td>\n",
       "      <td>False</td>\n",
       "      <td>0.0</td>\n",
       "      <td>Clinton: Trump should’ve apologized more, atta...</td>\n",
       "      <td>7.855849e+17</td>\n",
       "      <td>&lt;a href=\"http://twitterfeed.com\" rel=\"nofollow...</td>\n",
       "      <td>[]</td>\n",
       "      <td>[\"http://detne.ws/2e172jF\"]</td>\n",
       "      <td>POSTED</td>\n",
       "      <td>[]</td>\n",
       "      <td>NaN</td>\n",
       "      <td>NaN</td>\n",
       "    </tr>\n",
       "  </tbody>\n",
       "</table>\n",
       "</div>"
      ],
      "text/plain": [
       "        user_id         user_key    created_at          created_str  \\\n",
       "0  1.868981e+09    ryanmaxwell_1  1.458672e+12  2016-03-22 18:31:42   \n",
       "1  2.571870e+09  detroitdailynew  1.476133e+12  2016-10-10 20:57:00   \n",
       "\n",
       "   retweet_count retweeted  favorite_count  \\\n",
       "0            NaN       NaN             NaN   \n",
       "1            0.0     False             0.0   \n",
       "\n",
       "                                                text      tweet_id  \\\n",
       "0  #IslamKills Are you trying to say that there w...  7.123460e+17   \n",
       "1  Clinton: Trump should’ve apologized more, atta...  7.855849e+17   \n",
       "\n",
       "                                              source        hashtags  \\\n",
       "0                                                NaN  [\"IslamKills\"]   \n",
       "1  <a href=\"http://twitterfeed.com\" rel=\"nofollow...              []   \n",
       "\n",
       "                 expanded_urls  posted mentions  retweeted_status_id  \\\n",
       "0                           []  POSTED       []                  NaN   \n",
       "1  [\"http://detne.ws/2e172jF\"]  POSTED       []                  NaN   \n",
       "\n",
       "   in_reply_to_status_id  \n",
       "0                    NaN  \n",
       "1                    NaN  "
      ]
     },
     "execution_count": 705,
     "metadata": {},
     "output_type": "execute_result"
    }
   ],
   "source": [
    "rira_data.head(2)"
   ]
  },
  {
   "cell_type": "code",
   "execution_count": 746,
   "metadata": {},
   "outputs": [],
   "source": [
    "for handle in rira_IDs['TwitterHandle']:\n",
    "    tweets = rira_data[rira_data.user_key==handle]\n",
    "    tweets=tweets.reset_index()\n",
    "    del tweets['index']\n",
    "    path = './RIRA_tweets/'\n",
    "    ending = \".csv\"\n",
    "    tweets.to_csv(path_or_buf= path+handle+ending)"
   ]
  },
  {
   "cell_type": "code",
   "execution_count": 727,
   "metadata": {},
   "outputs": [],
   "source": [
    "tweets=tweets.reset_index()\n",
    "del tweets['index']"
   ]
  },
  {
   "cell_type": "code",
   "execution_count": 699,
   "metadata": {},
   "outputs": [
    {
     "data": {
      "text/html": [
       "<div>\n",
       "<style scoped>\n",
       "    .dataframe tbody tr th:only-of-type {\n",
       "        vertical-align: middle;\n",
       "    }\n",
       "\n",
       "    .dataframe tbody tr th {\n",
       "        vertical-align: top;\n",
       "    }\n",
       "\n",
       "    .dataframe thead th {\n",
       "        text-align: right;\n",
       "    }\n",
       "</style>\n",
       "<table border=\"1\" class=\"dataframe\">\n",
       "  <thead>\n",
       "    <tr style=\"text-align: right;\">\n",
       "      <th></th>\n",
       "      <th>user_id</th>\n",
       "      <th>user_key</th>\n",
       "      <th>created_at</th>\n",
       "      <th>created_str</th>\n",
       "      <th>retweet_count</th>\n",
       "      <th>retweeted</th>\n",
       "      <th>favorite_count</th>\n",
       "      <th>text</th>\n",
       "      <th>tweet_id</th>\n",
       "      <th>source</th>\n",
       "      <th>hashtags</th>\n",
       "      <th>expanded_urls</th>\n",
       "      <th>posted</th>\n",
       "      <th>mentions</th>\n",
       "      <th>retweeted_status_id</th>\n",
       "      <th>in_reply_to_status_id</th>\n",
       "    </tr>\n",
       "  </thead>\n",
       "  <tbody>\n",
       "    <tr>\n",
       "      <td>101054</td>\n",
       "      <td>4.859142e+09</td>\n",
       "      <td>trayneshacole</td>\n",
       "      <td>1.479414e+12</td>\n",
       "      <td>2016-11-17 20:27:21</td>\n",
       "      <td>20494.0</td>\n",
       "      <td>False</td>\n",
       "      <td>26655.0</td>\n",
       "      <td>go all the way off https://t.co/QtScy6u8I7</td>\n",
       "      <td>7.993482e+17</td>\n",
       "      <td>&lt;a href=\"http://twitter.com\" rel=\"nofollow\"&gt;Tw...</td>\n",
       "      <td>[]</td>\n",
       "      <td>[]</td>\n",
       "      <td>POSTED</td>\n",
       "      <td>[]</td>\n",
       "      <td>NaN</td>\n",
       "      <td>NaN</td>\n",
       "    </tr>\n",
       "  </tbody>\n",
       "</table>\n",
       "</div>"
      ],
      "text/plain": [
       "             user_id       user_key    created_at          created_str  \\\n",
       "101054  4.859142e+09  trayneshacole  1.479414e+12  2016-11-17 20:27:21   \n",
       "\n",
       "        retweet_count retweeted  favorite_count  \\\n",
       "101054        20494.0     False         26655.0   \n",
       "\n",
       "                                              text      tweet_id  \\\n",
       "101054  go all the way off https://t.co/QtScy6u8I7  7.993482e+17   \n",
       "\n",
       "                                                   source hashtags  \\\n",
       "101054  <a href=\"http://twitter.com\" rel=\"nofollow\">Tw...       []   \n",
       "\n",
       "       expanded_urls  posted mentions  retweeted_status_id  \\\n",
       "101054            []  POSTED       []                  NaN   \n",
       "\n",
       "        in_reply_to_status_id  \n",
       "101054                    NaN  "
      ]
     },
     "execution_count": 699,
     "metadata": {},
     "output_type": "execute_result"
    }
   ],
   "source": [
    "rira_data[rira_data.favorite_count==rira_data.favorite_count.max()]"
   ]
  },
  {
   "cell_type": "code",
   "execution_count": 566,
   "metadata": {},
   "outputs": [
    {
     "data": {
      "text/html": [
       "<div>\n",
       "<style scoped>\n",
       "    .dataframe tbody tr th:only-of-type {\n",
       "        vertical-align: middle;\n",
       "    }\n",
       "\n",
       "    .dataframe tbody tr th {\n",
       "        vertical-align: top;\n",
       "    }\n",
       "\n",
       "    .dataframe thead th {\n",
       "        text-align: right;\n",
       "    }\n",
       "</style>\n",
       "<table border=\"1\" class=\"dataframe\">\n",
       "  <thead>\n",
       "    <tr style=\"text-align: right;\">\n",
       "      <th></th>\n",
       "      <th>text</th>\n",
       "      <th>rira</th>\n",
       "    </tr>\n",
       "  </thead>\n",
       "  <tbody>\n",
       "    <tr>\n",
       "      <td>20045</td>\n",
       "      <td>@lookupondeath ...Fine, and I'll drink tea too...</td>\n",
       "      <td>0</td>\n",
       "    </tr>\n",
       "    <tr>\n",
       "      <td>20046</td>\n",
       "      <td>Greg Hardy you a good player and all but don't...</td>\n",
       "      <td>0</td>\n",
       "    </tr>\n",
       "    <tr>\n",
       "      <td>20047</td>\n",
       "      <td>You can miss people and still never want to se...</td>\n",
       "      <td>0</td>\n",
       "    </tr>\n",
       "    <tr>\n",
       "      <td>20048</td>\n",
       "      <td>@bitemyapp i had noticed your tendency to pee ...</td>\n",
       "      <td>0</td>\n",
       "    </tr>\n",
       "    <tr>\n",
       "      <td>20049</td>\n",
       "      <td>I think for my APUSH creative project I'm goin...</td>\n",
       "      <td>0</td>\n",
       "    </tr>\n",
       "  </tbody>\n",
       "</table>\n",
       "</div>"
      ],
      "text/plain": [
       "                                                    text  rira\n",
       "20045  @lookupondeath ...Fine, and I'll drink tea too...     0\n",
       "20046  Greg Hardy you a good player and all but don't...     0\n",
       "20047  You can miss people and still never want to se...     0\n",
       "20048  @bitemyapp i had noticed your tendency to pee ...     0\n",
       "20049  I think for my APUSH creative project I'm goin...     0"
      ]
     },
     "execution_count": 566,
     "metadata": {},
     "output_type": "execute_result"
    }
   ],
   "source": [
    "rand_tweets.tail()"
   ]
  },
  {
   "cell_type": "markdown",
   "metadata": {},
   "source": [
    "### Tokenize the sets"
   ]
  },
  {
   "cell_type": "code",
   "execution_count": 567,
   "metadata": {},
   "outputs": [
    {
     "name": "stderr",
     "output_type": "stream",
     "text": [
      "[nltk_data] Downloading package stopwords to\n",
      "[nltk_data]     /Users/stevenhansen/nltk_data...\n",
      "[nltk_data]   Package stopwords is already up-to-date!\n"
     ]
    },
    {
     "data": {
      "text/plain": [
       "True"
      ]
     },
     "execution_count": 567,
     "metadata": {},
     "output_type": "execute_result"
    }
   ],
   "source": [
    "nltk.download(\"stopwords\")"
   ]
  },
  {
   "cell_type": "code",
   "execution_count": 568,
   "metadata": {},
   "outputs": [],
   "source": [
    "stopwords = nltk.corpus.stopwords.words(\"english\")"
   ]
  },
  {
   "cell_type": "code",
   "execution_count": 572,
   "metadata": {},
   "outputs": [],
   "source": [
    "def build_a_bag_of_words_features(words):\n",
    "    return {\n",
    "        word: True for word in words \\\n",
    "        if not word in stopwords}"
   ]
  },
  {
   "cell_type": "code",
   "execution_count": 570,
   "metadata": {},
   "outputs": [],
   "source": [
    "def token_bag_words(data,label):\n",
    "    i=0 \n",
    "    length,col = data.shape\n",
    "    tokenized_tweets = []\n",
    "    while i<length:\n",
    "        tokenized_tweets.append(build_a_bag_of_words_features(nltk.word_tokenize(data.iloc[i,0])))\n",
    "        i+=1\n",
    "    #return tokenized_tweets\n",
    "    j=0\n",
    "    clean_tweets=list(np.arange(len(tokenized_tweets)))\n",
    "    while j<len(tokenized_tweets):\n",
    "        clean_tweets[j]=[tokenized_tweets[j],label]\n",
    "        j+=1\n",
    "    clean_tweets = tuple(clean_tweets)\n",
    "    return clean_tweets\n",
    "                                "
   ]
  },
  {
   "cell_type": "code",
   "execution_count": 573,
   "metadata": {},
   "outputs": [],
   "source": [
    "rira_bag_of_words = token_bag_words(rira_tweets,'rira')"
   ]
  },
  {
   "cell_type": "code",
   "execution_count": 574,
   "metadata": {},
   "outputs": [],
   "source": [
    "rand_bag_of_words = token_bag_words(rand_tweets,'rand')"
   ]
  },
  {
   "cell_type": "code",
   "execution_count": 575,
   "metadata": {
    "collapsed": true,
    "jupyter": {
     "outputs_hidden": true
    }
   },
   "outputs": [
    {
     "data": {
      "text/plain": [
       "[{'Robbie': True,\n",
       "  'E': True,\n",
       "  'Responds': True,\n",
       "  'To': True,\n",
       "  'Critics': True,\n",
       "  'After': True,\n",
       "  'Win': True,\n",
       "  'Against': True,\n",
       "  'Eddie': True,\n",
       "  'Edwards': True,\n",
       "  'In': True,\n",
       "  'The': True,\n",
       "  '#': True,\n",
       "  'WorldTitleSeries': True,\n",
       "  'https': True,\n",
       "  ':': True,\n",
       "  '//t.co/NSybBmVjKZ': True},\n",
       " 'rand']"
      ]
     },
     "execution_count": 575,
     "metadata": {},
     "output_type": "execute_result"
    }
   ],
   "source": [
    "rand_bag_of_words[0]"
   ]
  },
  {
   "cell_type": "code",
   "execution_count": 644,
   "metadata": {},
   "outputs": [],
   "source": [
    "twit_sample_corpus_labeled = token_bag_words(twit_sample_corpus_unlabeled,'corpus')"
   ]
  },
  {
   "cell_type": "code",
   "execution_count": 581,
   "metadata": {},
   "outputs": [],
   "source": [
    "def token_bag_words_notlabeled(data):\n",
    "    i=0 \n",
    "    length,col = data.shape\n",
    "    tokenized_tweets = []\n",
    "    while i<length:\n",
    "        tokenized_tweets.append(build_a_bag_of_words_features(nltk.word_tokenize(data.iloc[i,0])))\n",
    "        i+=1"
   ]
  },
  {
   "cell_type": "markdown",
   "metadata": {},
   "source": [
    "# Train Data"
   ]
  },
  {
   "cell_type": "code",
   "execution_count": 646,
   "metadata": {},
   "outputs": [],
   "source": [
    "from nltk.classify import NaiveBayesClassifier"
   ]
  },
  {
   "cell_type": "code",
   "execution_count": 647,
   "metadata": {},
   "outputs": [],
   "source": [
    "split = 10000"
   ]
  },
  {
   "cell_type": "code",
   "execution_count": 578,
   "metadata": {},
   "outputs": [],
   "source": [
    "rira_bot_classifier = NaiveBayesClassifier.train(rira_bag_of_words[:split]+rand_bag_of_words[:split])"
   ]
  },
  {
   "cell_type": "code",
   "execution_count": 579,
   "metadata": {},
   "outputs": [
    {
     "data": {
      "text/plain": [
       "95.88425195689668"
      ]
     },
     "execution_count": 579,
     "metadata": {},
     "output_type": "execute_result"
    }
   ],
   "source": [
    "nltk.classify.util.accuracy(rira_bot_classifier, rira_bag_of_words[split:]+rand_bag_of_words[split:])*100"
   ]
  },
  {
   "cell_type": "code",
   "execution_count": 580,
   "metadata": {},
   "outputs": [
    {
     "name": "stdout",
     "output_type": "stream",
     "text": [
      "Most Informative Features\n",
      "                 Channel = True             rand : rira   =    537.0 : 1.0\n",
      "                 Updates = True             rand : rira   =    535.8 : 1.0\n",
      "                 Weather = True             rand : rira   =    297.7 : 1.0\n",
      "                    http = True             rira : rand   =    205.7 : 1.0\n",
      "                   Trump = True             rira : rand   =    133.8 : 1.0\n",
      "                   Obama = True             rira : rand   =    127.0 : 1.0\n",
      "                politics = True             rira : rand   =     87.0 : 1.0\n",
      "                       … = True             rira : rand   =     85.8 : 1.0\n",
      "                    AMAs = True             rand : rira   =     71.0 : 1.0\n",
      "                 Clinton = True             rira : rand   =     66.4 : 1.0\n"
     ]
    }
   ],
   "source": [
    "rira_bot_classifier.show_most_informative_features()"
   ]
  },
  {
   "cell_type": "markdown",
   "metadata": {},
   "source": [
    "## Training using corpus data and rira data"
   ]
  },
  {
   "cell_type": "code",
   "execution_count": 652,
   "metadata": {},
   "outputs": [],
   "source": [
    "split=2000\n",
    "rira_bot_corpus_classifier = NaiveBayesClassifier.train(rira_bag_of_words[:split]+twit_sample_corpus_labeled[:split])\n"
   ]
  },
  {
   "cell_type": "code",
   "execution_count": 653,
   "metadata": {},
   "outputs": [
    {
     "data": {
      "text/plain": [
       "89.0316873019816"
      ]
     },
     "execution_count": 653,
     "metadata": {},
     "output_type": "execute_result"
    }
   ],
   "source": [
    "nltk.classify.util.accuracy(rira_bot_corpus_classifier, rira_bag_of_words[split:]+twit_sample_corpus_labeled[split:])*100"
   ]
  },
  {
   "cell_type": "code",
   "execution_count": 654,
   "metadata": {},
   "outputs": [
    {
     "name": "stdout",
     "output_type": "stream",
     "text": [
      "Most Informative Features\n",
      "                 Clinton = True             rira : corpus =     69.0 : 1.0\n",
      "                   Obama = True             rira : corpus =     59.0 : 1.0\n",
      "                 Hillary = True             rira : corpus =     57.7 : 1.0\n",
      "                  thanks = True           corpus : rira   =     49.0 : 1.0\n",
      "                       ) = True           corpus : rira   =     33.3 : 1.0\n",
      "                      Hi = True           corpus : rira   =     28.6 : 1.0\n",
      "                midnight = True             rira : corpus =     26.3 : 1.0\n",
      "                  follow = True           corpus : rira   =     23.4 : 1.0\n",
      "                       x = True           corpus : rira   =     15.7 : 1.0\n",
      "            FollowFriday = True           corpus : rira   =     15.0 : 1.0\n"
     ]
    }
   ],
   "source": [
    "rira_bot_corpus_classifier.show_most_informative_features()"
   ]
  },
  {
   "cell_type": "markdown",
   "metadata": {},
   "source": [
    "# Testing models"
   ]
  },
  {
   "cell_type": "markdown",
   "metadata": {},
   "source": [
    "## Questions\n",
    "Does it just classify highly politicized tweets as rira?\n",
    "\n",
    "At what point is it overfitting?\n",
    "\n",
    "Would taking out stop words and punctuation help/hurt?\n",
    "\n",
    "Can the Neive Bayes classifer differientiate between RIRA tweets and congress tweets?"
   ]
  },
  {
   "cell_type": "markdown",
   "metadata": {},
   "source": [
    "# tweet tester\n",
    "\n",
    "make a tweet and test it"
   ]
  },
  {
   "cell_type": "code",
   "execution_count": 582,
   "metadata": {},
   "outputs": [],
   "source": [
    "tweet = \"MAKE AMERICA GREAT AGAIN\""
   ]
  },
  {
   "cell_type": "code",
   "execution_count": 760,
   "metadata": {},
   "outputs": [],
   "source": [
    "def tweet_tester(tweet):\n",
    "    tokenized_tweet = build_a_bag_of_words_features(nltk.word_tokenize(tweet))\n",
    "    \n",
    "    #print(\"using rand tweets %s using the corpus tweets %s\" %s rira_bot_classifier.classify(tokenized_tweet),rira_bot_corpus_classifier.classify(tokenized_tweet))\n",
    "    return rira_bot_classifier.classify(tokenized_tweet),rira_bot_corpus_classifier.classify(tokenized_tweet)\n",
    "    #return rira_bot_corpus_classifier.classify(tokenized_tweet)"
   ]
  },
  {
   "cell_type": "code",
   "execution_count": 763,
   "metadata": {},
   "outputs": [
    {
     "data": {
      "text/plain": [
       "('rira', 'corpus')"
      ]
     },
     "execution_count": 763,
     "metadata": {},
     "output_type": "execute_result"
    }
   ],
   "source": [
    "tweet_tester(\"make america great again\")"
   ]
  },
  {
   "cell_type": "code",
   "execution_count": 764,
   "metadata": {},
   "outputs": [
    {
     "data": {
      "text/plain": [
       "('rira', 'rira')"
      ]
     },
     "execution_count": 764,
     "metadata": {},
     "output_type": "execute_result"
    }
   ],
   "source": [
    "tweet_tester(\"MAKE AMERICA GREAT AGAIN\")"
   ]
  },
  {
   "cell_type": "code",
   "execution_count": 587,
   "metadata": {},
   "outputs": [],
   "source": [
    "obama_tweets = pd.read_csv(\"./@BarackObama_tweets.csv\")"
   ]
  },
  {
   "cell_type": "code",
   "execution_count": 588,
   "metadata": {},
   "outputs": [],
   "source": [
    "trump_tweets = pd.read_csv(\"./tweet@realDonaldTrump_tweets.csv\")"
   ]
  },
  {
   "cell_type": "code",
   "execution_count": 589,
   "metadata": {},
   "outputs": [],
   "source": [
    "bieber_tweets = pd.read_csv(\"./@justinbieber_tweets.csv\")"
   ]
  },
  {
   "cell_type": "code",
   "execution_count": 590,
   "metadata": {},
   "outputs": [],
   "source": [
    "nate_silver_tweets = pd.read_csv(\"./@NateSilver538_tweets.csv\")"
   ]
  },
  {
   "cell_type": "code",
   "execution_count": 591,
   "metadata": {},
   "outputs": [],
   "source": [
    "ana_navarro_tweets = pd.read_csv(\"./@ananavarro_tweets.csv\")"
   ]
  },
  {
   "cell_type": "code",
   "execution_count": 592,
   "metadata": {},
   "outputs": [],
   "source": [
    "AOC_tweets = pd.read_csv(\"./@AOC_tweets.csv\")"
   ]
  },
  {
   "cell_type": "code",
   "execution_count": 593,
   "metadata": {},
   "outputs": [],
   "source": [
    "trumpJR_tweets =pd.read_csv(\"./@donaldJtrumpjr_tweets.csv\")"
   ]
  },
  {
   "cell_type": "code",
   "execution_count": 594,
   "metadata": {},
   "outputs": [],
   "source": [
    "h_clinton_tweets = pd.read_csv(\"./@HillaryClinton_tweets.csv\")"
   ]
  },
  {
   "cell_type": "code",
   "execution_count": 595,
   "metadata": {},
   "outputs": [],
   "source": [
    "jerry_Nadler = pd.read_csv(\"./Congress_tweets/@RepJerryNadler_tweets.csv\")"
   ]
  },
  {
   "cell_type": "code",
   "execution_count": 656,
   "metadata": {},
   "outputs": [],
   "source": [
    "def is_user_rira(tweets):\n",
    "    i=0\n",
    "    classified=np.arange(len(tweets))\n",
    "    while i < len(tweets):\n",
    "        if rira_bot_corpus_classifier.classify(build_a_bag_of_words_features(nltk.word_tokenize(tweets[i])))==\"rira\":\n",
    "            classified[i] = 1\n",
    "        else:\n",
    "            classified[i]=0\n",
    "        i+=1\n",
    "    return (sum(classified)/len(classified))"
   ]
  },
  {
   "cell_type": "code",
   "execution_count": 659,
   "metadata": {},
   "outputs": [],
   "source": [
    "def is_user_rira_corpus(tweets):\n",
    "    i=0\n",
    "    classified=np.arange(len(tweets))\n",
    "    while i < len(tweets):\n",
    "        if rira_bot_classifier.classify(build_a_bag_of_words_features(nltk.word_tokenize(tweets[i])))==\"rira\":\n",
    "            classified[i] = 1\n",
    "        else:\n",
    "            classified[i]=0\n",
    "        i+=1\n",
    "    return (sum(classified)/len(classified))"
   ]
  },
  {
   "cell_type": "code",
   "execution_count": 657,
   "metadata": {},
   "outputs": [
    {
     "data": {
      "text/plain": [
       "0.9394313967861557"
      ]
     },
     "execution_count": 657,
     "metadata": {},
     "output_type": "execute_result"
    }
   ],
   "source": [
    "is_user_rira(obama_tweets.text)"
   ]
  },
  {
   "cell_type": "code",
   "execution_count": 660,
   "metadata": {},
   "outputs": [
    {
     "data": {
      "text/plain": [
       "0.9184177997527813"
      ]
     },
     "execution_count": 660,
     "metadata": {},
     "output_type": "execute_result"
    }
   ],
   "source": [
    "is_user_rira_corpus(obama_tweets.text)"
   ]
  },
  {
   "cell_type": "code",
   "execution_count": 661,
   "metadata": {},
   "outputs": [
    {
     "data": {
      "text/plain": [
       "0.9711055276381909"
      ]
     },
     "execution_count": 661,
     "metadata": {},
     "output_type": "execute_result"
    }
   ],
   "source": [
    "is_user_rira(trump_tweets.text)"
   ]
  },
  {
   "cell_type": "code",
   "execution_count": 662,
   "metadata": {},
   "outputs": [
    {
     "data": {
      "text/plain": [
       "0.9698492462311558"
      ]
     },
     "execution_count": 662,
     "metadata": {},
     "output_type": "execute_result"
    }
   ],
   "source": [
    "is_user_rira_corpus(trump_tweets.text)"
   ]
  },
  {
   "cell_type": "code",
   "execution_count": 599,
   "metadata": {},
   "outputs": [
    {
     "data": {
      "text/plain": [
       "0.73261352810416"
      ]
     },
     "execution_count": 599,
     "metadata": {},
     "output_type": "execute_result"
    }
   ],
   "source": [
    "is_user_rira(bieber_tweets.text)"
   ]
  },
  {
   "cell_type": "code",
   "execution_count": 600,
   "metadata": {},
   "outputs": [
    {
     "data": {
      "text/plain": [
       "0.734375"
      ]
     },
     "execution_count": 600,
     "metadata": {},
     "output_type": "execute_result"
    }
   ],
   "source": [
    "is_user_rira(nate_silver_tweets.text)"
   ]
  },
  {
   "cell_type": "code",
   "execution_count": 601,
   "metadata": {},
   "outputs": [
    {
     "data": {
      "text/plain": [
       "0.8798001873243834"
      ]
     },
     "execution_count": 601,
     "metadata": {},
     "output_type": "execute_result"
    }
   ],
   "source": [
    "is_user_rira(ana_navarro_tweets.text)"
   ]
  },
  {
   "cell_type": "code",
   "execution_count": 602,
   "metadata": {},
   "outputs": [
    {
     "data": {
      "text/plain": [
       "0.9251336898395722"
      ]
     },
     "execution_count": 602,
     "metadata": {},
     "output_type": "execute_result"
    }
   ],
   "source": [
    "ryanmaxwell_1_rira=ryanmaxwell_1_rira.text.reset_index()\n",
    "is_user_rira(ryanmaxwell_1_rira.text)"
   ]
  },
  {
   "cell_type": "code",
   "execution_count": 603,
   "metadata": {},
   "outputs": [
    {
     "data": {
      "text/plain": [
       "0.9153175591531756"
      ]
     },
     "execution_count": 603,
     "metadata": {},
     "output_type": "execute_result"
    }
   ],
   "source": [
    "is_user_rira(AOC_tweets.text)"
   ]
  },
  {
   "cell_type": "code",
   "execution_count": 642,
   "metadata": {},
   "outputs": [
    {
     "data": {
      "text/plain": [
       "0.7191"
      ]
     },
     "execution_count": 642,
     "metadata": {},
     "output_type": "execute_result"
    }
   ],
   "source": [
    "is_user_rira(twit_sample_corpus_unlabeled[0])"
   ]
  },
  {
   "cell_type": "code",
   "execution_count": 605,
   "metadata": {},
   "outputs": [
    {
     "data": {
      "text/plain": [
       "0.9693270735524256"
      ]
     },
     "execution_count": 605,
     "metadata": {},
     "output_type": "execute_result"
    }
   ],
   "source": [
    "is_user_rira(trumpJR_tweets.text)"
   ]
  },
  {
   "cell_type": "code",
   "execution_count": 606,
   "metadata": {},
   "outputs": [
    {
     "data": {
      "text/plain": [
       "0.9095430525334163"
      ]
     },
     "execution_count": 606,
     "metadata": {},
     "output_type": "execute_result"
    }
   ],
   "source": [
    "is_user_rira(h_clinton_tweets.text)"
   ]
  },
  {
   "cell_type": "code",
   "execution_count": 607,
   "metadata": {},
   "outputs": [
    {
     "data": {
      "text/plain": [
       "0.9579962663347853"
      ]
     },
     "execution_count": 607,
     "metadata": {},
     "output_type": "execute_result"
    }
   ],
   "source": [
    "is_user_rira(jerry_Nadler.text)"
   ]
  },
  {
   "cell_type": "markdown",
   "metadata": {},
   "source": [
    "## Congress Tweets\n",
    "Analysis tweets from congressmembers.  List complied using the tweetscraper.ipynb"
   ]
  },
  {
   "cell_type": "code",
   "execution_count": 145,
   "metadata": {},
   "outputs": [],
   "source": [
    "import os\n",
    "import pandas as pd"
   ]
  },
  {
   "cell_type": "code",
   "execution_count": 146,
   "metadata": {},
   "outputs": [],
   "source": [
    "files = !ls ./Congress_tweets"
   ]
  },
  {
   "cell_type": "code",
   "execution_count": 147,
   "metadata": {},
   "outputs": [
    {
     "data": {
      "text/plain": [
       "520"
      ]
     },
     "execution_count": 147,
     "metadata": {},
     "output_type": "execute_result"
    }
   ],
   "source": [
    "len(files)"
   ]
  },
  {
   "cell_type": "code",
   "execution_count": 608,
   "metadata": {},
   "outputs": [],
   "source": [
    "congress_twitter_handles = pd.read_csv(\"./116Congress.csv\")\n",
    "congress_twitter_handles['PercentTweetLikeRIRA']=0\n",
    "congress_twitter_handles['PartyAffiliation']=0"
   ]
  },
  {
   "cell_type": "code",
   "execution_count": 664,
   "metadata": {},
   "outputs": [],
   "source": [
    "congress_twitter_handles['PercentTweetLikeRIRA_corpus']=0\n",
    "congress_twitter_handles['PartyAffiliation']=0"
   ]
  },
  {
   "cell_type": "code",
   "execution_count": 609,
   "metadata": {},
   "outputs": [],
   "source": [
    "party_affiliation = pd.read_csv(\"./Congress Party Affiliation.csv\")"
   ]
  },
  {
   "cell_type": "code",
   "execution_count": 610,
   "metadata": {},
   "outputs": [],
   "source": [
    "party_affiliation =party_affiliation.dropna()"
   ]
  },
  {
   "cell_type": "code",
   "execution_count": 821,
   "metadata": {},
   "outputs": [
    {
     "data": {
      "text/plain": [
       "'@LisaMurkowski_tweets.csv'"
      ]
     },
     "execution_count": 821,
     "metadata": {},
     "output_type": "execute_result"
    }
   ],
   "source": [
    "i=51\n",
    "files[i]"
   ]
  },
  {
   "cell_type": "code",
   "execution_count": 822,
   "metadata": {},
   "outputs": [],
   "source": [
    "sen_search = congress_twitter_handles[congress_twitter_handles.CSPAN == files[i].strip('@').split(\"_tweets.csv\")[0]]"
   ]
  },
  {
   "cell_type": "code",
   "execution_count": 823,
   "metadata": {},
   "outputs": [
    {
     "data": {
      "text/plain": [
       "'Lisa Murkowski'"
      ]
     },
     "execution_count": 823,
     "metadata": {},
     "output_type": "execute_result"
    }
   ],
   "source": [
    "name = sen_search.iloc[0,0].strip()\n",
    "name"
   ]
  },
  {
   "cell_type": "code",
   "execution_count": 824,
   "metadata": {},
   "outputs": [
    {
     "name": "stdout",
     "output_type": "stream",
     "text": [
      "not found\n"
     ]
    }
   ],
   "source": [
    "prevmember = member\n",
    "for members in party_affiliation.Member:\n",
    "    if name in members:\n",
    "        member =  members\n",
    "if member == prevmember:\n",
    "    print('not found')"
   ]
  },
  {
   "cell_type": "code",
   "execution_count": 825,
   "metadata": {},
   "outputs": [
    {
     "data": {
      "text/plain": [
       "221    Democratic\n",
       "Name: Party, dtype: object"
      ]
     },
     "execution_count": 825,
     "metadata": {},
     "output_type": "execute_result"
    }
   ],
   "source": [
    "party_affiliation[party_affiliation.Member == member].Party"
   ]
  },
  {
   "cell_type": "code",
   "execution_count": 611,
   "metadata": {},
   "outputs": [
    {
     "name": "stderr",
     "output_type": "stream",
     "text": [
      "/Users/stevenhansen/opt/anaconda3/lib/python3.7/site-packages/ipykernel_launcher.py:8: SettingWithCopyWarning: \n",
      "A value is trying to be set on a copy of a slice from a DataFrame\n",
      "\n",
      "See the caveats in the documentation: http://pandas.pydata.org/pandas-docs/stable/user_guide/indexing.html#returning-a-view-versus-a-copy\n",
      "  \n",
      "/Users/stevenhansen/opt/anaconda3/lib/python3.7/site-packages/ipykernel_launcher.py:17: SettingWithCopyWarning: \n",
      "A value is trying to be set on a copy of a slice from a DataFrame\n",
      "\n",
      "See the caveats in the documentation: http://pandas.pydata.org/pandas-docs/stable/user_guide/indexing.html#returning-a-view-versus-a-copy\n"
     ]
    }
   ],
   "source": [
    "i=0\n",
    "while i<len(files):\n",
    "    sen_tweet_file = files[i] #pulls file name\n",
    "    sen_tweets = pd.read_csv(\"./Congress_tweets/\"+sen_tweet_file) # opens csv of sen tweets\n",
    "    value = is_user_rira(sen_tweets.text) # gets percent of tweets similar to rira\n",
    "    sen_search = congress_twitter_handles[congress_twitter_handles.CSPAN == files[i].strip('@').split(\"_tweets.csv\")[0]]\n",
    "    #^ cleans up the file name and searches for the senators to get index\n",
    "    congress_twitter_handles.PercentTweetLikeRIRA[sen_search.index] = value\n",
    "    # ^ assinges the RIRA value \n",
    "    name=sen_search.iloc[0,0].strip()\n",
    "    # cleans name to search for party affiliation\n",
    "    for members in party_affiliation.Member:\n",
    "        if name in members:\n",
    "            member = members\n",
    "    party = party_affiliation[party_affiliation.Member == member].Party\n",
    "    # ^ gets party affiliation\n",
    "    congress_twitter_handles.PartyAffiliation[sen_search.index]=party\n",
    "    # ^ assigns party affiliation\n",
    "    i+=1"
   ]
  },
  {
   "cell_type": "code",
   "execution_count": 672,
   "metadata": {},
   "outputs": [
    {
     "name": "stderr",
     "output_type": "stream",
     "text": [
      "/Users/stevenhansen/opt/anaconda3/lib/python3.7/site-packages/ipykernel_launcher.py:8: SettingWithCopyWarning: \n",
      "A value is trying to be set on a copy of a slice from a DataFrame\n",
      "\n",
      "See the caveats in the documentation: http://pandas.pydata.org/pandas-docs/stable/user_guide/indexing.html#returning-a-view-versus-a-copy\n",
      "  \n",
      "/Users/stevenhansen/opt/anaconda3/lib/python3.7/site-packages/ipykernel_launcher.py:17: SettingWithCopyWarning: \n",
      "A value is trying to be set on a copy of a slice from a DataFrame\n",
      "\n",
      "See the caveats in the documentation: http://pandas.pydata.org/pandas-docs/stable/user_guide/indexing.html#returning-a-view-versus-a-copy\n"
     ]
    }
   ],
   "source": [
    "i=0\n",
    "while i<len(files):\n",
    "    sen_tweet_file = files[i] #pulls file name\n",
    "    sen_tweets = pd.read_csv(\"./Congress_tweets/\"+sen_tweet_file) # opens csv of sen tweets\n",
    "    value = is_user_rira_corpus(sen_tweets.text) # gets percent of tweets similar to rira\n",
    "    sen_search = congress_twitter_handles[congress_twitter_handles.CSPAN == files[i].strip('@').split(\"_tweets.csv\")[0]]\n",
    "    #^ cleans up the file name and searches for the senators to get index\n",
    "    congress_twitter_handles.PercentTweetLikeRIRA_corpus[sen_search.index] = value\n",
    "    # ^ assinges the RIRA value \n",
    "    name=sen_search.iloc[0,0].strip()\n",
    "    # cleans name to search for party affiliation\n",
    "    for members in party_affiliation.Member:\n",
    "        if name in members:\n",
    "            member = members\n",
    "    party = party_affiliation[party_affiliation.Member == member].Party\n",
    "    # ^ gets party affiliation\n",
    "    congress_twitter_handles.PartyAffiliation[sen_search.index]=party\n",
    "    # ^ assigns party affiliation\n",
    "    i+=1"
   ]
  },
  {
   "cell_type": "code",
   "execution_count": 673,
   "metadata": {},
   "outputs": [],
   "source": [
    "#removes lines with no party affiliation\n",
    "congress_data = congress_twitter_handles[congress_twitter_handles.PartyAffiliation!=0]"
   ]
  },
  {
   "cell_type": "code",
   "execution_count": 674,
   "metadata": {
    "collapsed": true,
    "jupyter": {
     "outputs_hidden": true
    }
   },
   "outputs": [
    {
     "data": {
      "text/html": [
       "<div>\n",
       "<style scoped>\n",
       "    .dataframe tbody tr th:only-of-type {\n",
       "        vertical-align: middle;\n",
       "    }\n",
       "\n",
       "    .dataframe tbody tr th {\n",
       "        vertical-align: top;\n",
       "    }\n",
       "\n",
       "    .dataframe thead th {\n",
       "        text-align: right;\n",
       "    }\n",
       "</style>\n",
       "<table border=\"1\" class=\"dataframe\">\n",
       "  <thead>\n",
       "    <tr style=\"text-align: right;\">\n",
       "      <th></th>\n",
       "      <th>Wikipedia  Names</th>\n",
       "      <th>Position</th>\n",
       "      <th>Joined Congress</th>\n",
       "      <th>ODU-WSDL</th>\n",
       "      <th>CSPAN</th>\n",
       "      <th>TweetCongress</th>\n",
       "      <th>Github</th>\n",
       "      <th>REMARK</th>\n",
       "      <th>PercentTweetLikeRIRA</th>\n",
       "      <th>PartyAffiliation</th>\n",
       "      <th>PercentTweetLikeRIRA_corpus</th>\n",
       "    </tr>\n",
       "  </thead>\n",
       "  <tbody>\n",
       "    <tr>\n",
       "      <td>0</td>\n",
       "      <td>Doug Jones</td>\n",
       "      <td>Sen</td>\n",
       "      <td>3-Jan-18</td>\n",
       "      <td>sendougjones</td>\n",
       "      <td>sendougjones</td>\n",
       "      <td>sendougjones</td>\n",
       "      <td>sendougjones</td>\n",
       "      <td>NaN</td>\n",
       "      <td>0.849448</td>\n",
       "      <td>Republican</td>\n",
       "      <td>0.849448</td>\n",
       "    </tr>\n",
       "    <tr>\n",
       "      <td>1</td>\n",
       "      <td>Richard Shelby</td>\n",
       "      <td>Sen</td>\n",
       "      <td>3-Jan-87</td>\n",
       "      <td>SenShelby</td>\n",
       "      <td>SenShelby</td>\n",
       "      <td>SenShelby</td>\n",
       "      <td>SenShelby</td>\n",
       "      <td>NaN</td>\n",
       "      <td>0.907193</td>\n",
       "      <td>Democratic</td>\n",
       "      <td>0.907193</td>\n",
       "    </tr>\n",
       "    <tr>\n",
       "      <td>2</td>\n",
       "      <td>Dan Sullivan</td>\n",
       "      <td>Sen</td>\n",
       "      <td>3-Jan-15</td>\n",
       "      <td>SenDanSullivan</td>\n",
       "      <td>SenDanSullivan</td>\n",
       "      <td>SenDanSullivan</td>\n",
       "      <td>SenDanSullivan</td>\n",
       "      <td>NaN</td>\n",
       "      <td>0.870888</td>\n",
       "      <td>Democratic</td>\n",
       "      <td>0.870888</td>\n",
       "    </tr>\n",
       "    <tr>\n",
       "      <td>3</td>\n",
       "      <td>Lisa Murkowski</td>\n",
       "      <td>Sen</td>\n",
       "      <td>20-Dec-02</td>\n",
       "      <td>LisaMurkowski</td>\n",
       "      <td>LisaMurkowski</td>\n",
       "      <td>LisaMurkowski</td>\n",
       "      <td>LisaMurkowski</td>\n",
       "      <td>NaN</td>\n",
       "      <td>0.778681</td>\n",
       "      <td>Democratic</td>\n",
       "      <td>0.778681</td>\n",
       "    </tr>\n",
       "    <tr>\n",
       "      <td>4</td>\n",
       "      <td>Kyrsten Sinema</td>\n",
       "      <td>Sen</td>\n",
       "      <td>3-Jan-19</td>\n",
       "      <td>SenatorSinema</td>\n",
       "      <td>SenatorSinema</td>\n",
       "      <td>SenatorSinema</td>\n",
       "      <td>SenatorSinema</td>\n",
       "      <td>NaN</td>\n",
       "      <td>0.819363</td>\n",
       "      <td>Democratic</td>\n",
       "      <td>0.819363</td>\n",
       "    </tr>\n",
       "    <tr>\n",
       "      <td>...</td>\n",
       "      <td>...</td>\n",
       "      <td>...</td>\n",
       "      <td>...</td>\n",
       "      <td>...</td>\n",
       "      <td>...</td>\n",
       "      <td>...</td>\n",
       "      <td>...</td>\n",
       "      <td>...</td>\n",
       "      <td>...</td>\n",
       "      <td>...</td>\n",
       "      <td>...</td>\n",
       "    </tr>\n",
       "    <tr>\n",
       "      <td>529</td>\n",
       "      <td>Vicente Gonz·lez</td>\n",
       "      <td>Rep</td>\n",
       "      <td>3-Jan-17</td>\n",
       "      <td>RepGonzalez</td>\n",
       "      <td>RepGonzalez</td>\n",
       "      <td>RepGonzalez</td>\n",
       "      <td>RepGonzalez</td>\n",
       "      <td>NaN</td>\n",
       "      <td>0.904201</td>\n",
       "      <td>Democratic</td>\n",
       "      <td>0.904201</td>\n",
       "    </tr>\n",
       "    <tr>\n",
       "      <td>530</td>\n",
       "      <td>Vicky Hartzler</td>\n",
       "      <td>Rep</td>\n",
       "      <td>3-Jan-11</td>\n",
       "      <td>RepHartzler</td>\n",
       "      <td>RepHartzler</td>\n",
       "      <td>RepHartzler</td>\n",
       "      <td>RepHartzler</td>\n",
       "      <td>NaN</td>\n",
       "      <td>0.873765</td>\n",
       "      <td>Republican</td>\n",
       "      <td>0.873765</td>\n",
       "    </tr>\n",
       "    <tr>\n",
       "      <td>531</td>\n",
       "      <td>Virginia Foxx</td>\n",
       "      <td>Rep</td>\n",
       "      <td>3-Jan-05</td>\n",
       "      <td>VirginiaFoxx</td>\n",
       "      <td>VirginiaFoxx</td>\n",
       "      <td>VirginiaFoxx</td>\n",
       "      <td>VirginiaFoxx</td>\n",
       "      <td>NaN</td>\n",
       "      <td>0.899167</td>\n",
       "      <td>Republican</td>\n",
       "      <td>0.899167</td>\n",
       "    </tr>\n",
       "    <tr>\n",
       "      <td>532</td>\n",
       "      <td>Warren Davidson</td>\n",
       "      <td>Rep</td>\n",
       "      <td>7-Jun-16</td>\n",
       "      <td>WarrenDavidson</td>\n",
       "      <td>WarrenDavidson</td>\n",
       "      <td>WarrenDavidson</td>\n",
       "      <td>WarrenDavidson</td>\n",
       "      <td>NaN</td>\n",
       "      <td>0.921630</td>\n",
       "      <td>Republican</td>\n",
       "      <td>0.921630</td>\n",
       "    </tr>\n",
       "    <tr>\n",
       "      <td>533</td>\n",
       "      <td>Will Hurd</td>\n",
       "      <td>Rep</td>\n",
       "      <td>3-Jan-15</td>\n",
       "      <td>hurdonthehill</td>\n",
       "      <td>hurdonthehill</td>\n",
       "      <td>hurdonthehill</td>\n",
       "      <td>hurdonthehill</td>\n",
       "      <td>NaN</td>\n",
       "      <td>0.852209</td>\n",
       "      <td>Republican</td>\n",
       "      <td>0.852209</td>\n",
       "    </tr>\n",
       "  </tbody>\n",
       "</table>\n",
       "<p>520 rows × 11 columns</p>\n",
       "</div>"
      ],
      "text/plain": [
       "      Wikipedia  Names Position Joined Congress        ODU-WSDL  \\\n",
       "0          Doug Jones       Sen        3-Jan-18    sendougjones   \n",
       "1      Richard Shelby       Sen        3-Jan-87       SenShelby   \n",
       "2        Dan Sullivan       Sen        3-Jan-15  SenDanSullivan   \n",
       "3      Lisa Murkowski       Sen       20-Dec-02   LisaMurkowski   \n",
       "4      Kyrsten Sinema       Sen        3-Jan-19   SenatorSinema   \n",
       "..                 ...      ...             ...             ...   \n",
       "529  Vicente Gonz·lez       Rep        3-Jan-17     RepGonzalez   \n",
       "530    Vicky Hartzler       Rep        3-Jan-11     RepHartzler   \n",
       "531     Virginia Foxx       Rep        3-Jan-05    VirginiaFoxx   \n",
       "532   Warren Davidson       Rep        7-Jun-16  WarrenDavidson   \n",
       "533         Will Hurd       Rep        3-Jan-15   hurdonthehill   \n",
       "\n",
       "              CSPAN   TweetCongress          Github REMARK  \\\n",
       "0      sendougjones    sendougjones    sendougjones    NaN   \n",
       "1         SenShelby       SenShelby       SenShelby    NaN   \n",
       "2    SenDanSullivan  SenDanSullivan  SenDanSullivan    NaN   \n",
       "3     LisaMurkowski   LisaMurkowski   LisaMurkowski    NaN   \n",
       "4     SenatorSinema   SenatorSinema   SenatorSinema    NaN   \n",
       "..              ...             ...             ...    ...   \n",
       "529     RepGonzalez     RepGonzalez     RepGonzalez    NaN   \n",
       "530     RepHartzler     RepHartzler     RepHartzler    NaN   \n",
       "531    VirginiaFoxx    VirginiaFoxx    VirginiaFoxx    NaN   \n",
       "532  WarrenDavidson  WarrenDavidson  WarrenDavidson    NaN   \n",
       "533   hurdonthehill   hurdonthehill   hurdonthehill    NaN   \n",
       "\n",
       "     PercentTweetLikeRIRA PartyAffiliation  PercentTweetLikeRIRA_corpus  \n",
       "0                0.849448       Republican                     0.849448  \n",
       "1                0.907193       Democratic                     0.907193  \n",
       "2                0.870888       Democratic                     0.870888  \n",
       "3                0.778681       Democratic                     0.778681  \n",
       "4                0.819363       Democratic                     0.819363  \n",
       "..                    ...              ...                          ...  \n",
       "529              0.904201       Democratic                     0.904201  \n",
       "530              0.873765       Republican                     0.873765  \n",
       "531              0.899167       Republican                     0.899167  \n",
       "532              0.921630       Republican                     0.921630  \n",
       "533              0.852209       Republican                     0.852209  \n",
       "\n",
       "[520 rows x 11 columns]"
      ]
     },
     "execution_count": 674,
     "metadata": {},
     "output_type": "execute_result"
    }
   ],
   "source": [
    "congress_data"
   ]
  },
  {
   "cell_type": "code",
   "execution_count": 765,
   "metadata": {},
   "outputs": [
    {
     "data": {
      "text/plain": [
       "array(['Republican', 'Democratic', 'Libertarian'], dtype=object)"
      ]
     },
     "execution_count": 765,
     "metadata": {},
     "output_type": "execute_result"
    }
   ],
   "source": [
    "congress_data.PartyAffiliation.unique()"
   ]
  },
  {
   "cell_type": "code",
   "execution_count": 615,
   "metadata": {},
   "outputs": [],
   "source": [
    "congress_data_Dem = congress_data[congress_data.PartyAffiliation == 'Democratic']"
   ]
  },
  {
   "cell_type": "code",
   "execution_count": 616,
   "metadata": {},
   "outputs": [
    {
     "data": {
      "text/plain": [
       "(312, 10)"
      ]
     },
     "execution_count": 616,
     "metadata": {},
     "output_type": "execute_result"
    }
   ],
   "source": [
    "congress_data_Dem.shape"
   ]
  },
  {
   "cell_type": "code",
   "execution_count": 617,
   "metadata": {},
   "outputs": [
    {
     "data": {
      "text/plain": [
       "(205, 10)"
      ]
     },
     "execution_count": 617,
     "metadata": {},
     "output_type": "execute_result"
    }
   ],
   "source": [
    "congress_data_GOP = congress_data[congress_data.PartyAffiliation == 'Republican']\n",
    "congress_data_GOP.shape"
   ]
  },
  {
   "cell_type": "code",
   "execution_count": 619,
   "metadata": {},
   "outputs": [
    {
     "data": {
      "text/plain": [
       "(3, 10)"
      ]
     },
     "execution_count": 619,
     "metadata": {},
     "output_type": "execute_result"
    }
   ],
   "source": [
    "congress_data_Lib = congress_data[congress_data.PartyAffiliation == 'Libertarian']\n",
    "congress_data_Lib.shape"
   ]
  },
  {
   "cell_type": "code",
   "execution_count": 508,
   "metadata": {},
   "outputs": [],
   "source": [
    "import seaborn as sns"
   ]
  },
  {
   "cell_type": "code",
   "execution_count": 512,
   "metadata": {},
   "outputs": [
    {
     "data": {
      "image/png": "[encoded data removed]",
      "text/plain": [
       "<Figure size 720x720 with 1 Axes>"
      ]
     },
     "metadata": {
      "needs_background": "light"
     },
     "output_type": "display_data"
    }
   ],
   "source": [
    "plt.figure(figsize =(10,10))\n",
    "sns.swarmplot(x=\"PartyAffiliation\",y=\"PercentTweetLikeRIRA\",data=congress_data)\n",
    "plt.show()\n",
    "# this is with a training set of 1000"
   ]
  },
  {
   "cell_type": "code",
   "execution_count": 545,
   "metadata": {},
   "outputs": [
    {
     "data": {
      "image/png": "[encoded data removed]",
      "text/plain": [
       "<Figure size 720x720 with 1 Axes>"
      ]
     },
     "metadata": {
      "needs_background": "light"
     },
     "output_type": "display_data"
    }
   ],
   "source": [
    "plt.figure(figsize =(10,10))\n",
    "sns.swarmplot(x=\"PartyAffiliation\",y=\"PercentTweetLikeRIRA\",data=congress_data)\n",
    "plt.show()\n",
    "# this is with a training set of 10,000"
   ]
  },
  {
   "cell_type": "code",
   "execution_count": 546,
   "metadata": {},
   "outputs": [
    {
     "data": {
      "text/html": [
       "<div>\n",
       "<style scoped>\n",
       "    .dataframe tbody tr th:only-of-type {\n",
       "        vertical-align: middle;\n",
       "    }\n",
       "\n",
       "    .dataframe tbody tr th {\n",
       "        vertical-align: top;\n",
       "    }\n",
       "\n",
       "    .dataframe thead th {\n",
       "        text-align: right;\n",
       "    }\n",
       "</style>\n",
       "<table border=\"1\" class=\"dataframe\">\n",
       "  <thead>\n",
       "    <tr style=\"text-align: right;\">\n",
       "      <th></th>\n",
       "      <th>Wikipedia  Names</th>\n",
       "      <th>Position</th>\n",
       "      <th>Joined Congress</th>\n",
       "      <th>ODU-WSDL</th>\n",
       "      <th>CSPAN</th>\n",
       "      <th>TweetCongress</th>\n",
       "      <th>Github</th>\n",
       "      <th>REMARK</th>\n",
       "      <th>PercentTweetLikeRIRA</th>\n",
       "      <th>PartyAffiliation</th>\n",
       "    </tr>\n",
       "  </thead>\n",
       "  <tbody>\n",
       "    <tr>\n",
       "      <td>121</td>\n",
       "      <td>Andy Kim</td>\n",
       "      <td>Rep</td>\n",
       "      <td>3-Jan-19</td>\n",
       "      <td>RepAndyKimNJ</td>\n",
       "      <td>RepAndyKimNJ</td>\n",
       "      <td>RepAndyKimNJ</td>\n",
       "      <td>RepAndyKimNJ</td>\n",
       "      <td>NaN</td>\n",
       "      <td>0.537049</td>\n",
       "      <td>Democratic</td>\n",
       "    </tr>\n",
       "  </tbody>\n",
       "</table>\n",
       "</div>"
      ],
      "text/plain": [
       "    Wikipedia  Names Position Joined Congress      ODU-WSDL         CSPAN  \\\n",
       "121        Andy Kim       Rep        3-Jan-19  RepAndyKimNJ  RepAndyKimNJ   \n",
       "\n",
       "    TweetCongress        Github REMARK  PercentTweetLikeRIRA PartyAffiliation  \n",
       "121  RepAndyKimNJ  RepAndyKimNJ    NaN              0.537049       Democratic  "
      ]
     },
     "execution_count": 546,
     "metadata": {},
     "output_type": "execute_result"
    }
   ],
   "source": [
    "congress_data_Dem[congress_data_Dem.PercentTweetLikeRIRA==congress_data_Dem.PercentTweetLikeRIRA.min()]"
   ]
  },
  {
   "cell_type": "code",
   "execution_count": 547,
   "metadata": {},
   "outputs": [
    {
     "data": {
      "text/html": [
       "<div>\n",
       "<style scoped>\n",
       "    .dataframe tbody tr th:only-of-type {\n",
       "        vertical-align: middle;\n",
       "    }\n",
       "\n",
       "    .dataframe tbody tr th {\n",
       "        vertical-align: top;\n",
       "    }\n",
       "\n",
       "    .dataframe thead th {\n",
       "        text-align: right;\n",
       "    }\n",
       "</style>\n",
       "<table border=\"1\" class=\"dataframe\">\n",
       "  <thead>\n",
       "    <tr style=\"text-align: right;\">\n",
       "      <th></th>\n",
       "      <th>Wikipedia  Names</th>\n",
       "      <th>Position</th>\n",
       "      <th>Joined Congress</th>\n",
       "      <th>ODU-WSDL</th>\n",
       "      <th>CSPAN</th>\n",
       "      <th>TweetCongress</th>\n",
       "      <th>Github</th>\n",
       "      <th>REMARK</th>\n",
       "      <th>PercentTweetLikeRIRA</th>\n",
       "      <th>PartyAffiliation</th>\n",
       "    </tr>\n",
       "  </thead>\n",
       "  <tbody>\n",
       "    <tr>\n",
       "      <td>362</td>\n",
       "      <td>Lacy Clay</td>\n",
       "      <td>Rep</td>\n",
       "      <td>3-Jan-01</td>\n",
       "      <td>LacyClayMO1</td>\n",
       "      <td>LacyClayMO1</td>\n",
       "      <td>NaN</td>\n",
       "      <td>NaN</td>\n",
       "      <td>(Name is present with no Twitter handle in Git...</td>\n",
       "      <td>0.957843</td>\n",
       "      <td>Democratic</td>\n",
       "    </tr>\n",
       "  </tbody>\n",
       "</table>\n",
       "</div>"
      ],
      "text/plain": [
       "    Wikipedia  Names Position Joined Congress     ODU-WSDL        CSPAN  \\\n",
       "362       Lacy Clay       Rep        3-Jan-01  LacyClayMO1  LacyClayMO1   \n",
       "\n",
       "    TweetCongress Github                                             REMARK  \\\n",
       "362           NaN    NaN  (Name is present with no Twitter handle in Git...   \n",
       "\n",
       "     PercentTweetLikeRIRA PartyAffiliation  \n",
       "362              0.957843       Democratic  "
      ]
     },
     "execution_count": 547,
     "metadata": {},
     "output_type": "execute_result"
    }
   ],
   "source": [
    "congress_data_Dem[congress_data_Dem.PercentTweetLikeRIRA==congress_data_Dem.PercentTweetLikeRIRA.max()]"
   ]
  },
  {
   "cell_type": "code",
   "execution_count": 548,
   "metadata": {},
   "outputs": [
    {
     "data": {
      "text/html": [
       "<div>\n",
       "<style scoped>\n",
       "    .dataframe tbody tr th:only-of-type {\n",
       "        vertical-align: middle;\n",
       "    }\n",
       "\n",
       "    .dataframe tbody tr th {\n",
       "        vertical-align: top;\n",
       "    }\n",
       "\n",
       "    .dataframe thead th {\n",
       "        text-align: right;\n",
       "    }\n",
       "</style>\n",
       "<table border=\"1\" class=\"dataframe\">\n",
       "  <thead>\n",
       "    <tr style=\"text-align: right;\">\n",
       "      <th></th>\n",
       "      <th>Wikipedia  Names</th>\n",
       "      <th>Position</th>\n",
       "      <th>Joined Congress</th>\n",
       "      <th>ODU-WSDL</th>\n",
       "      <th>CSPAN</th>\n",
       "      <th>TweetCongress</th>\n",
       "      <th>Github</th>\n",
       "      <th>REMARK</th>\n",
       "      <th>PercentTweetLikeRIRA</th>\n",
       "      <th>PartyAffiliation</th>\n",
       "    </tr>\n",
       "  </thead>\n",
       "  <tbody>\n",
       "    <tr>\n",
       "      <td>130</td>\n",
       "      <td>Anthony Gonzalez</td>\n",
       "      <td>Rep</td>\n",
       "      <td>3-Jan-19</td>\n",
       "      <td>RepAGonzalez</td>\n",
       "      <td>RepAGonzalez</td>\n",
       "      <td>RepAGonzalez</td>\n",
       "      <td>RepAGonzalez</td>\n",
       "      <td>NaN</td>\n",
       "      <td>0.637053</td>\n",
       "      <td>Republican</td>\n",
       "    </tr>\n",
       "  </tbody>\n",
       "</table>\n",
       "</div>"
      ],
      "text/plain": [
       "      Wikipedia  Names Position Joined Congress      ODU-WSDL         CSPAN  \\\n",
       "130  Anthony Gonzalez       Rep        3-Jan-19  RepAGonzalez  RepAGonzalez   \n",
       "\n",
       "    TweetCongress        Github REMARK  PercentTweetLikeRIRA PartyAffiliation  \n",
       "130  RepAGonzalez  RepAGonzalez    NaN              0.637053       Republican  "
      ]
     },
     "execution_count": 548,
     "metadata": {},
     "output_type": "execute_result"
    }
   ],
   "source": [
    "congress_data_GOP[congress_data_GOP.PercentTweetLikeRIRA==congress_data_GOP.PercentTweetLikeRIRA.min()]"
   ]
  },
  {
   "cell_type": "code",
   "execution_count": 549,
   "metadata": {},
   "outputs": [
    {
     "data": {
      "text/html": [
       "<div>\n",
       "<style scoped>\n",
       "    .dataframe tbody tr th:only-of-type {\n",
       "        vertical-align: middle;\n",
       "    }\n",
       "\n",
       "    .dataframe tbody tr th {\n",
       "        vertical-align: top;\n",
       "    }\n",
       "\n",
       "    .dataframe thead th {\n",
       "        text-align: right;\n",
       "    }\n",
       "</style>\n",
       "<table border=\"1\" class=\"dataframe\">\n",
       "  <thead>\n",
       "    <tr style=\"text-align: right;\">\n",
       "      <th></th>\n",
       "      <th>Wikipedia  Names</th>\n",
       "      <th>Position</th>\n",
       "      <th>Joined Congress</th>\n",
       "      <th>ODU-WSDL</th>\n",
       "      <th>CSPAN</th>\n",
       "      <th>TweetCongress</th>\n",
       "      <th>Github</th>\n",
       "      <th>REMARK</th>\n",
       "      <th>PercentTweetLikeRIRA</th>\n",
       "      <th>PartyAffiliation</th>\n",
       "    </tr>\n",
       "  </thead>\n",
       "  <tbody>\n",
       "    <tr>\n",
       "      <td>488</td>\n",
       "      <td>Steve Scalise</td>\n",
       "      <td>Rep</td>\n",
       "      <td>3-May-08</td>\n",
       "      <td>SteveScalise</td>\n",
       "      <td>SteveScalise</td>\n",
       "      <td>SteveScalise</td>\n",
       "      <td>SteveScalise</td>\n",
       "      <td>NaN</td>\n",
       "      <td>0.959839</td>\n",
       "      <td>Republican</td>\n",
       "    </tr>\n",
       "  </tbody>\n",
       "</table>\n",
       "</div>"
      ],
      "text/plain": [
       "    Wikipedia  Names Position Joined Congress      ODU-WSDL         CSPAN  \\\n",
       "488   Steve Scalise       Rep        3-May-08  SteveScalise  SteveScalise   \n",
       "\n",
       "    TweetCongress        Github REMARK  PercentTweetLikeRIRA PartyAffiliation  \n",
       "488  SteveScalise  SteveScalise    NaN              0.959839       Republican  "
      ]
     },
     "execution_count": 549,
     "metadata": {},
     "output_type": "execute_result"
    }
   ],
   "source": [
    "congress_data_GOP[congress_data_GOP.PercentTweetLikeRIRA==congress_data_GOP.PercentTweetLikeRIRA.max()]"
   ]
  },
  {
   "cell_type": "code",
   "execution_count": 551,
   "metadata": {},
   "outputs": [
    {
     "data": {
      "text/plain": [
       "(115, 10)"
      ]
     },
     "execution_count": 551,
     "metadata": {},
     "output_type": "execute_result"
    }
   ],
   "source": [
    "congress_data_GOP[congress_data_GOP.PercentTweetLikeRIRA>0.80].shape"
   ]
  },
  {
   "cell_type": "code",
   "execution_count": 552,
   "metadata": {},
   "outputs": [
    {
     "data": {
      "text/plain": [
       "(183, 10)"
      ]
     },
     "execution_count": 552,
     "metadata": {},
     "output_type": "execute_result"
    }
   ],
   "source": [
    "congress_data_Dem[congress_data_Dem.PercentTweetLikeRIRA>0.80].shape"
   ]
  },
  {
   "cell_type": "code",
   "execution_count": 620,
   "metadata": {},
   "outputs": [
    {
     "data": {
      "image/png": "[encoded data removed]",
      "text/plain": [
       "<Figure size 720x720 with 1 Axes>"
      ]
     },
     "metadata": {
      "needs_background": "light"
     },
     "output_type": "display_data"
    }
   ],
   "source": [
    "# removing stopwords training = 10,000\n",
    "plt.figure(figsize =(10,10))\n",
    "sns.swarmplot(x=\"PartyAffiliation\",y=\"PercentTweetLikeRIRA\",data=congress_data)\n",
    "plt.show()"
   ]
  },
  {
   "cell_type": "code",
   "execution_count": 676,
   "metadata": {},
   "outputs": [
    {
     "data": {
      "image/png": "[encoded data removed]",
      "text/plain": [
       "<Figure size 720x720 with 1 Axes>"
      ]
     },
     "metadata": {
      "needs_background": "light"
     },
     "output_type": "display_data"
    }
   ],
   "source": [
    "plt.figure(figsize =(10,10))\n",
    "sns.swarmplot(x=\"PartyAffiliation\",y=\"PercentTweetLikeRIRA_corpus\",data=congress_data)\n",
    "plt.show()"
   ]
  },
  {
   "cell_type": "code",
   "execution_count": null,
   "metadata": {},
   "outputs": [],
   "source": []
  }
 ],
 "metadata": {
  "kernelspec": {
   "display_name": "Python 3",
   "language": "python",
   "name": "python3"
  },
  "language_info": {
   "codemirror_mode": {
    "name": "ipython",
    "version": 3
   },
   "file_extension": ".py",
   "mimetype": "text/x-python",
   "name": "python",
   "nbconvert_exporter": "python",
   "pygments_lexer": "ipython3",
   "version": "3.7.4"
  }
 },
 "nbformat": 4,
 "nbformat_minor": 4
}

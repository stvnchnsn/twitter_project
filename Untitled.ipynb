{
 "cells": [
  {
   "cell_type": "code",
   "execution_count": 1,
   "metadata": {},
   "outputs": [],
   "source": [
    "import os\n",
    "import pandas as pd"
   ]
  },
  {
   "cell_type": "code",
   "execution_count": 9,
   "metadata": {},
   "outputs": [],
   "source": [
    "files = !ls ./Congress_tweets"
   ]
  },
  {
   "cell_type": "code",
   "execution_count": 10,
   "metadata": {},
   "outputs": [
    {
     "data": {
      "text/plain": [
       "520"
      ]
     },
     "execution_count": 10,
     "metadata": {},
     "output_type": "execute_result"
    }
   ],
   "source": [
    "len(files)"
   ]
  },
  {
   "cell_type": "code",
   "execution_count": 3,
   "metadata": {},
   "outputs": [],
   "source": [
    "test = files[2]"
   ]
  },
  {
   "cell_type": "code",
   "execution_count": 4,
   "metadata": {},
   "outputs": [
    {
     "data": {
      "text/plain": [
       "'AOC'"
      ]
     },
     "execution_count": 4,
     "metadata": {},
     "output_type": "execute_result"
    }
   ],
   "source": [
    "test.strip('@_tweets.csv')"
   ]
  },
  {
   "cell_type": "code",
   "execution_count": 5,
   "metadata": {},
   "outputs": [],
   "source": [
    "test = pd.read_csv(test)"
   ]
  },
  {
   "cell_type": "code",
   "execution_count": 6,
   "metadata": {},
   "outputs": [
    {
     "data": {
      "text/html": [
       "<div>\n",
       "<style scoped>\n",
       "    .dataframe tbody tr th:only-of-type {\n",
       "        vertical-align: middle;\n",
       "    }\n",
       "\n",
       "    .dataframe tbody tr th {\n",
       "        vertical-align: top;\n",
       "    }\n",
       "\n",
       "    .dataframe thead th {\n",
       "        text-align: right;\n",
       "    }\n",
       "</style>\n",
       "<table border=\"1\" class=\"dataframe\">\n",
       "  <thead>\n",
       "    <tr style=\"text-align: right;\">\n",
       "      <th></th>\n",
       "      <th>id</th>\n",
       "      <th>created_at</th>\n",
       "      <th>text</th>\n",
       "      <th>likes</th>\n",
       "      <th>in reply to</th>\n",
       "      <th>retweeted</th>\n",
       "    </tr>\n",
       "  </thead>\n",
       "  <tbody>\n",
       "    <tr>\n",
       "      <td>0</td>\n",
       "      <td>1287923929189879810</td>\n",
       "      <td>2020-07-28 01:32:47</td>\n",
       "      <td>RT @Mike_P_Williams: So, @AOC just took to Ins...</td>\n",
       "      <td>0</td>\n",
       "      <td>NaN</td>\n",
       "      <td>False</td>\n",
       "    </tr>\n",
       "    <tr>\n",
       "      <td>1</td>\n",
       "      <td>1287923197153697793</td>\n",
       "      <td>2020-07-28 01:29:53</td>\n",
       "      <td>RT @jzembik: .@AOC just now in an Instagram li...</td>\n",
       "      <td>0</td>\n",
       "      <td>NaN</td>\n",
       "      <td>False</td>\n",
       "    </tr>\n",
       "    <tr>\n",
       "      <td>2</td>\n",
       "      <td>1287923027146047489</td>\n",
       "      <td>2020-07-28 01:29:12</td>\n",
       "      <td>Everyone who just donated $1 or more during my...</td>\n",
       "      <td>30767</td>\n",
       "      <td>NaN</td>\n",
       "      <td>False</td>\n",
       "    </tr>\n",
       "    <tr>\n",
       "      <td>3</td>\n",
       "      <td>1287808465705066496</td>\n",
       "      <td>2020-07-27 17:53:59</td>\n",
       "      <td>Thanks for bringing us together for an incredi...</td>\n",
       "      <td>9593</td>\n",
       "      <td>NaN</td>\n",
       "      <td>False</td>\n",
       "    </tr>\n",
       "    <tr>\n",
       "      <td>4</td>\n",
       "      <td>1287475174095368195</td>\n",
       "      <td>2020-07-26 19:49:36</td>\n",
       "      <td>@RealLyndaCarter Thank you for being a shining...</td>\n",
       "      <td>14885</td>\n",
       "      <td>RealLyndaCarter</td>\n",
       "      <td>False</td>\n",
       "    </tr>\n",
       "    <tr>\n",
       "      <td>...</td>\n",
       "      <td>...</td>\n",
       "      <td>...</td>\n",
       "      <td>...</td>\n",
       "      <td>...</td>\n",
       "      <td>...</td>\n",
       "      <td>...</td>\n",
       "    </tr>\n",
       "    <tr>\n",
       "      <td>3207</td>\n",
       "      <td>1121442677613060098</td>\n",
       "      <td>2019-04-25 15:55:44</td>\n",
       "      <td>To understand how racial injustice works subco...</td>\n",
       "      <td>34462</td>\n",
       "      <td>NaN</td>\n",
       "      <td>False</td>\n",
       "    </tr>\n",
       "    <tr>\n",
       "      <td>3208</td>\n",
       "      <td>1121441489442234368</td>\n",
       "      <td>2019-04-25 15:51:01</td>\n",
       "      <td>-We “shouldn’t” incarcerate for nonviolent off...</td>\n",
       "      <td>29983</td>\n",
       "      <td>AOC</td>\n",
       "      <td>False</td>\n",
       "    </tr>\n",
       "    <tr>\n",
       "      <td>3209</td>\n",
       "      <td>1121437850120130561</td>\n",
       "      <td>2019-04-25 15:36:33</td>\n",
       "      <td>Many rebut the voting question by saying, “Wel...</td>\n",
       "      <td>25973</td>\n",
       "      <td>AOC</td>\n",
       "      <td>False</td>\n",
       "    </tr>\n",
       "    <tr>\n",
       "      <td>3210</td>\n",
       "      <td>1121434432840376322</td>\n",
       "      <td>2019-04-25 15:22:58</td>\n",
       "      <td>Reminder:\\n- Slavery ➡️ Jim Crow + Redlining ➡...</td>\n",
       "      <td>40642</td>\n",
       "      <td>AOC</td>\n",
       "      <td>False</td>\n",
       "    </tr>\n",
       "    <tr>\n",
       "      <td>3211</td>\n",
       "      <td>1121422146545299458</td>\n",
       "      <td>2019-04-25 14:34:09</td>\n",
       "      <td>RT @RepMarkTakano: VA is not broken, and it’s ...</td>\n",
       "      <td>0</td>\n",
       "      <td>NaN</td>\n",
       "      <td>False</td>\n",
       "    </tr>\n",
       "  </tbody>\n",
       "</table>\n",
       "<p>3212 rows × 6 columns</p>\n",
       "</div>"
      ],
      "text/plain": [
       "                       id           created_at  \\\n",
       "0     1287923929189879810  2020-07-28 01:32:47   \n",
       "1     1287923197153697793  2020-07-28 01:29:53   \n",
       "2     1287923027146047489  2020-07-28 01:29:12   \n",
       "3     1287808465705066496  2020-07-27 17:53:59   \n",
       "4     1287475174095368195  2020-07-26 19:49:36   \n",
       "...                   ...                  ...   \n",
       "3207  1121442677613060098  2019-04-25 15:55:44   \n",
       "3208  1121441489442234368  2019-04-25 15:51:01   \n",
       "3209  1121437850120130561  2019-04-25 15:36:33   \n",
       "3210  1121434432840376322  2019-04-25 15:22:58   \n",
       "3211  1121422146545299458  2019-04-25 14:34:09   \n",
       "\n",
       "                                                   text  likes  \\\n",
       "0     RT @Mike_P_Williams: So, @AOC just took to Ins...      0   \n",
       "1     RT @jzembik: .@AOC just now in an Instagram li...      0   \n",
       "2     Everyone who just donated $1 or more during my...  30767   \n",
       "3     Thanks for bringing us together for an incredi...   9593   \n",
       "4     @RealLyndaCarter Thank you for being a shining...  14885   \n",
       "...                                                 ...    ...   \n",
       "3207  To understand how racial injustice works subco...  34462   \n",
       "3208  -We “shouldn’t” incarcerate for nonviolent off...  29983   \n",
       "3209  Many rebut the voting question by saying, “Wel...  25973   \n",
       "3210  Reminder:\\n- Slavery ➡️ Jim Crow + Redlining ➡...  40642   \n",
       "3211  RT @RepMarkTakano: VA is not broken, and it’s ...      0   \n",
       "\n",
       "          in reply to  retweeted  \n",
       "0                 NaN      False  \n",
       "1                 NaN      False  \n",
       "2                 NaN      False  \n",
       "3                 NaN      False  \n",
       "4     RealLyndaCarter      False  \n",
       "...               ...        ...  \n",
       "3207              NaN      False  \n",
       "3208              AOC      False  \n",
       "3209              AOC      False  \n",
       "3210              AOC      False  \n",
       "3211              NaN      False  \n",
       "\n",
       "[3212 rows x 6 columns]"
      ]
     },
     "execution_count": 6,
     "metadata": {},
     "output_type": "execute_result"
    }
   ],
   "source": [
    "test"
   ]
  },
  {
   "cell_type": "code",
   "execution_count": null,
   "metadata": {},
   "outputs": [],
   "source": []
  }
 ],
 "metadata": {
  "kernelspec": {
   "display_name": "Python 3",
   "language": "python",
   "name": "python3"
  },
  "language_info": {
   "codemirror_mode": {
    "name": "ipython",
    "version": 3
   },
   "file_extension": ".py",
   "mimetype": "text/x-python",
   "name": "python",
   "nbconvert_exporter": "python",
   "pygments_lexer": "ipython3",
   "version": "3.7.4"
  }
 },
 "nbformat": 4,
 "nbformat_minor": 4
}
